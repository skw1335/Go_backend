{
 "cells": [
  {
   "cell_type": "code",
   "execution_count": null,
   "id": "6872b058-43c7-4412-b84b-ccccbdda896f",
   "metadata": {},
   "outputs": [],
   "source": []
  }
 ],
 "metadata": {
  "kernelspec": {
   "display_name": "",
   "name": ""
  },
  "language_info": {
   "name": ""
  }
 },
 "nbformat": 4,
 "nbformat_minor": 5
}
